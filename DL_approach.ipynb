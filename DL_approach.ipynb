{
 "cells": [
  {
   "cell_type": "code",
   "execution_count": 1,
   "metadata": {},
   "outputs": [],
   "source": [
    "import torch\n",
    "import torch.nn as nn\n",
    "from torch.utils.data import Dataset, DataLoader\n",
    "import pandas as pd\n",
    "from pathlib import Path\n",
    "import time, copy"
   ]
  },
  {
   "cell_type": "code",
   "execution_count": 2,
   "metadata": {},
   "outputs": [],
   "source": [
    "# Load data\n",
    "\n",
    "X_train = pd.read_csv(Path('cleaned_data','X_train.csv'), index_col=0)\n",
    "X_val = pd.read_csv(Path('cleaned_data','X_val.csv'), index_col=0)\n",
    "X_test = pd.read_csv(Path('cleaned_data','X_test.csv'), index_col=0)\n",
    "\n",
    "y_train = pd.read_csv(Path('cleaned_data','y_train.csv'), index_col=0)\n",
    "y_val = pd.read_csv(Path('cleaned_data','y_val.csv'), index_col=0)\n",
    "y_test = pd.read_csv(Path('cleaned_data','y_test.csv'), index_col=0)"
   ]
  },
  {
   "cell_type": "code",
   "execution_count": 36,
   "metadata": {},
   "outputs": [],
   "source": [
    "from sklearn.ensemble import RandomForestClassifier\n",
    "from sklearn.metrics import accuracy_score, precision_score, recall_score, f1_score, roc_auc_score\n",
    "from sklearn.model_selection import cross_val_score\n",
    "\n",
    "from tabpfn import TabPFNClassifier\n",
    "from xgboost import XGBClassifier\n",
    "from catboost import CatBoostClassifier\n",
    "from lightgbm import LGBMClassifier\n",
    "\n",
    "from sklearn.model_selection import GridSearchCV\n",
    "from sklearn.model_selection import RandomizedSearchCV\n",
    "import scipy.stats as stats\n",
    "import numpy as np\n",
    "from sklearn.metrics import classification_report\n",
    "import matplotlib.pyplot as plt\n",
    "from sklearn.calibration import CalibratedClassifierCV, calibration_curve\n",
    "from sklearn.metrics import roc_curve, auc"
   ]
  },
  {
   "cell_type": "code",
   "execution_count": 6,
   "metadata": {},
   "outputs": [
    {
     "name": "stdout",
     "output_type": "stream",
     "text": [
      "Fitting 2 folds for each of 1 candidates, totalling 2 fits\n"
     ]
    },
    {
     "name": "stderr",
     "output_type": "stream",
     "text": [
      "c:\\Users\\Vinicius\\OneDrive\\Documentos\\GitHub\\mimic-iv-machine-learning-project\\venv\\Lib\\site-packages\\sklearn\\neural_network\\_multilayer_perceptron.py:1105: DataConversionWarning: A column-vector y was passed when a 1d array was expected. Please change the shape of y to (n_samples, ), for example using ravel().\n",
      "  y = column_or_1d(y, warn=True)\n",
      "c:\\Users\\Vinicius\\OneDrive\\Documentos\\GitHub\\mimic-iv-machine-learning-project\\venv\\Lib\\site-packages\\sklearn\\neural_network\\_multilayer_perceptron.py:1105: DataConversionWarning: A column-vector y was passed when a 1d array was expected. Please change the shape of y to (n_samples, ), for example using ravel().\n",
      "  y = column_or_1d(y, warn=True)\n",
      "c:\\Users\\Vinicius\\OneDrive\\Documentos\\GitHub\\mimic-iv-machine-learning-project\\venv\\Lib\\site-packages\\sklearn\\neural_network\\_multilayer_perceptron.py:1105: DataConversionWarning: A column-vector y was passed when a 1d array was expected. Please change the shape of y to (n_samples, ), for example using ravel().\n",
      "  y = column_or_1d(y, warn=True)\n"
     ]
    },
    {
     "name": "stdout",
     "output_type": "stream",
     "text": [
      "Best set of hyperparameters:  {'activation': 'relu', 'learning_rate': 'constant', 'learning_rate_init': 0.05844349136659784, 'momentum': 0.9546698005959608, 'solver': 'sgd'}\n",
      "Best score:  0.7473716310408922\n"
     ]
    }
   ],
   "source": [
    "from sklearn.neural_network import MLPClassifier\n",
    "\n",
    "mlp = MLPClassifier(random_state=42, max_iter=300)\n",
    "\n",
    "grid = {\n",
    "        \"activation\": ['relu', 'identity', 'logistic', 'tanh'],\n",
    "        \"solver\": ['lbfgs', 'sgd', 'adam'],\n",
    "        \"learning_rate_init\": stats.uniform(0.00001, 0.1),\n",
    "        \"learning_rate\": ['constant', 'invscaling', 'adaptive'],\n",
    "        \"momentum\": stats.uniform(loc=0.7, scale=0.3),\n",
    "        }\n",
    "\n",
    "rs_mlp = RandomizedSearchCV(mlp, n_iter=1, cv=2, verbose=1, param_distributions=grid, n_jobs = 1)\n",
    "\n",
    "rs_mlp.fit(X_train, y_train)\n",
    "\n",
    "# Print the best set of hyperparameters and the corresponding score\n",
    "print(\"Best set of hyperparameters: \", rs_mlp.best_params_)\n",
    "print(\"Best score: \", rs_mlp.best_score_)"
   ]
  },
  {
   "cell_type": "code",
   "execution_count": 7,
   "metadata": {},
   "outputs": [
    {
     "name": "stdout",
     "output_type": "stream",
     "text": [
      "MLP - Validation dataset\n",
      "Accuracy: 0.7485\n",
      "Precision: 0.7164\n",
      "Recall: 0.7813\n",
      "AUC: 0.8273\n",
      "              precision    recall  f1-score   support\n",
      "\n",
      "           0       0.78      0.72      0.75     20036\n",
      "           1       0.72      0.78      0.75     18222\n",
      "\n",
      "    accuracy                           0.75     38258\n",
      "   macro avg       0.75      0.75      0.75     38258\n",
      "weighted avg       0.75      0.75      0.75     38258\n",
      "\n"
     ]
    }
   ],
   "source": [
    "from sklearn.metrics import classification_report\n",
    "\n",
    "# Fazendo previsões no dataset de validação\n",
    "prob_pos_mlp = rs_mlp.predict_proba(X_val)[:, 1]\n",
    "y_pred_mlp = rs_mlp.predict(X_val)\n",
    "\n",
    "print('MLP - Validation dataset')\n",
    "print(\"Accuracy: {:.4f}\".format(accuracy_score(y_val, y_pred_mlp)))\n",
    "print(\"Precision: {:.4f}\".format(precision_score(y_val, y_pred_mlp)))\n",
    "print(\"Recall: {:.4f}\".format(recall_score(y_val, y_pred_mlp)))\n",
    "print(\"AUC: {:.4f}\".format(roc_auc_score(y_val, prob_pos_mlp)))\n",
    "print(classification_report(y_val, y_pred_mlp))"
   ]
  },
  {
   "cell_type": "code",
   "execution_count": 8,
   "metadata": {},
   "outputs": [
    {
     "name": "stdout",
     "output_type": "stream",
     "text": [
      "MLP - Test dataset\n",
      "Accuracy: 0.7451\n",
      "Precision: 0.7148\n",
      "Recall: 0.7778\n",
      "AUC: 0.8248\n",
      "              precision    recall  f1-score   support\n",
      "\n",
      "           0       0.78      0.72      0.75     22164\n",
      "           1       0.71      0.78      0.74     20345\n",
      "\n",
      "    accuracy                           0.75     42509\n",
      "   macro avg       0.75      0.75      0.75     42509\n",
      "weighted avg       0.75      0.75      0.75     42509\n",
      "\n"
     ]
    }
   ],
   "source": [
    "# Fazendo previsões no dataset de testidação\n",
    "prob_pos_mlp = rs_mlp.predict_proba(X_test)[:, 1]\n",
    "y_pred_mlp = rs_mlp.predict(X_test)\n",
    "\n",
    "print('MLP - Test dataset')\n",
    "print(\"Accuracy: {:.4f}\".format(accuracy_score(y_test, y_pred_mlp)))\n",
    "print(\"Precision: {:.4f}\".format(precision_score(y_test, y_pred_mlp)))\n",
    "print(\"Recall: {:.4f}\".format(recall_score(y_test, y_pred_mlp)))\n",
    "print(\"AUC: {:.4f}\".format(roc_auc_score(y_test, prob_pos_mlp)))\n",
    "print(classification_report(y_test, y_pred_mlp))"
   ]
  },
  {
   "cell_type": "code",
   "execution_count": 3,
   "metadata": {},
   "outputs": [
    {
     "data": {
      "text/plain": [
       "device(type='cuda')"
      ]
     },
     "execution_count": 3,
     "metadata": {},
     "output_type": "execute_result"
    }
   ],
   "source": [
    "# Define device\n",
    "\n",
    "device = torch.device('cuda' if torch.cuda.is_available() else 'cpu')\n",
    "device"
   ]
  },
  {
   "cell_type": "code",
   "execution_count": 4,
   "metadata": {},
   "outputs": [],
   "source": [
    "# Define custom dataset\n",
    "\n",
    "class MimicIvDataset(Dataset):\n",
    "    \"\"\"MIMIC IV dataset.\"\"\"\n",
    "\n",
    "    def __init__(self, csv_file_X, csv_file_y):\n",
    "        \"\"\"\n",
    "        Arguments:\n",
    "            csv_file (string): Path to the csv file with annotations.\n",
    "        \"\"\"\n",
    "        self.mimic_df_X = pd.read_csv(Path(csv_file_X), index_col=0)\n",
    "        self.mimic_df_y = pd.read_csv(Path(csv_file_y), index_col=0)\n",
    "\n",
    "    def __len__(self):\n",
    "        return len(self.mimic_df_X)\n",
    "\n",
    "    def __getitem__(self, idx):\n",
    "        if torch.is_tensor(idx):\n",
    "            idx = idx.tolist()\n",
    "            \n",
    "        inputs = torch.tensor(self.mimic_df_X.iloc[idx], dtype=torch.float64)\n",
    "        labels = torch.tensor(self.mimic_df_y.iloc[idx], dtype=torch.float64)\n",
    "\n",
    "        return inputs, labels"
   ]
  },
  {
   "cell_type": "code",
   "execution_count": 5,
   "metadata": {},
   "outputs": [],
   "source": [
    "# Load datasets\n",
    "\n",
    "train_dataset = MimicIvDataset(csv_file_X=\"cleaned_data/X_train.csv\", csv_file_y=\"cleaned_data/y_train.csv\")\n",
    "val_dataset = MimicIvDataset(csv_file_X=\"cleaned_data/X_val.csv\", csv_file_y=\"cleaned_data/y_val.csv\")\n",
    "test_dataset = MimicIvDataset(csv_file_X=\"cleaned_data/X_test.csv\", csv_file_y=\"cleaned_data/y_test.csv\")"
   ]
  },
  {
   "cell_type": "code",
   "execution_count": 6,
   "metadata": {},
   "outputs": [
    {
     "name": "stdout",
     "output_type": "stream",
     "text": [
      "dataset_sizes = {'train': 344320, 'val': 38258, 'test': 42509}\n"
     ]
    }
   ],
   "source": [
    "# Create dataloaders\n",
    "\n",
    "batch_size = 100\n",
    "\n",
    "dataloaders = {'train': DataLoader(train_dataset, batch_size=batch_size, shuffle=True),\n",
    "               'val': DataLoader(val_dataset, batch_size=batch_size, shuffle=True),\n",
    "               'test': DataLoader(test_dataset, batch_size=batch_size, shuffle=True)}\n",
    "\n",
    "dataset_sizes = {'train': len(train_dataset),\n",
    "                 'val': len(val_dataset),\n",
    "                 'test': len(test_dataset)}\n",
    "print(f'dataset_sizes = {dataset_sizes}')"
   ]
  },
  {
   "cell_type": "code",
   "execution_count": 7,
   "metadata": {},
   "outputs": [
    {
     "name": "stdout",
     "output_type": "stream",
     "text": [
      "MimicAdmissionClassifier(\n",
      "  (dropout): Dropout(p=0.5, inplace=False)\n",
      "  (layers): Sequential(\n",
      "    (0): Linear(in_features=67, out_features=128, bias=True)\n",
      "    (1): ReLU()\n",
      "    (2): Dropout(p=0.5, inplace=False)\n",
      "    (3): Linear(in_features=128, out_features=128, bias=True)\n",
      "    (4): ReLU()\n",
      "    (5): Dropout(p=0.5, inplace=False)\n",
      "    (6): Linear(in_features=128, out_features=1, bias=True)\n",
      "    (7): Sigmoid()\n",
      "  )\n",
      ")\n"
     ]
    }
   ],
   "source": [
    "import torch\n",
    "import torch.nn as nn\n",
    "\n",
    "# Define model parameters\n",
    "input_size = 67\n",
    "hidden_size1 = 128\n",
    "hidden_size2 = 128\n",
    "hidden_size3 = 128\n",
    "num_classes = 1\n",
    "dropout_rate = 0.5  # Adjust the dropout rate for regularization\n",
    "\n",
    "# External training parameters\n",
    "learning_rate = 0.0001\n",
    "num_epochs = 10\n",
    "\n",
    "# Revised model with flexible activation and data types\n",
    "class MimicAdmissionClassifier(nn.Module):\n",
    "    def __init__(self, input_size, hidden_size1, hidden_size2, hidden_size3, num_classes, dropout_rate, activation_fn=nn.ReLU, dtype=torch.float32):\n",
    "        \"\"\"\n",
    "        A customizable multi-layer perceptron (MLP) model with dropout for classification tasks.\n",
    "\n",
    "        Args:\n",
    "            input_size (int): Size of the input features.\n",
    "            hidden_size1 (int): Number of units in the first hidden layer.\n",
    "            hidden_size2 (int): Number of units in the second hidden layer.\n",
    "            hidden_size3 (int): Number of units in the third hidden layer.\n",
    "            num_classes (int): Number of output classes (1 for binary classification).\n",
    "            dropout_rate (float): Dropout rate to use between layers (0 for no dropout).\n",
    "            activation_fn (torch.nn.Module): Activation function (default is ReLU).\n",
    "            dtype (torch.dtype): Data type for the model (default is torch.float32).\n",
    "        \"\"\"\n",
    "        super(MimicAdmissionClassifier, self).__init__()\n",
    "        self.dropout = nn.Dropout(dropout_rate)  # Dropout layer to prevent overfitting\n",
    "        \n",
    "        # Define the sequence of layers with dynamic activation function\n",
    "        self.layers = nn.Sequential(\n",
    "            nn.Linear(input_size, hidden_size1, dtype=dtype),\n",
    "            activation_fn(),\n",
    "            self.dropout,\n",
    "            nn.Linear(hidden_size1, hidden_size2, dtype=dtype),\n",
    "            activation_fn(),\n",
    "            self.dropout,\n",
    "            # nn.Linear(hidden_size2, hidden_size3, dtype=dtype),\n",
    "            # activation_fn(),\n",
    "            # self.dropout,\n",
    "            nn.Linear(hidden_size3, num_classes, dtype=dtype),\n",
    "            nn.Sigmoid()  # For binary classification\n",
    "        )\n",
    "\n",
    "    def forward(self, x):\n",
    "        \"\"\"\n",
    "        Forward pass of the network.\n",
    "\n",
    "        Args:\n",
    "            x (Tensor): Input data tensor of shape (batch_size, input_size).\n",
    "        \n",
    "        Returns:\n",
    "            Tensor: Output prediction tensor of shape (batch_size, num_classes).\n",
    "        \"\"\"\n",
    "        return self.layers(x)\n",
    "\n",
    "# Example instantiation of the model\n",
    "mimic_admission_classifier = MimicAdmissionClassifier(\n",
    "    input_size=input_size,\n",
    "    hidden_size1=hidden_size1,\n",
    "    hidden_size2=hidden_size2,\n",
    "    hidden_size3=hidden_size3,\n",
    "    num_classes=num_classes,\n",
    "    dropout_rate=dropout_rate,\n",
    "    activation_fn=nn.ReLU,  # Can be changed to other activations like nn.LeakyReLU\n",
    "    dtype=torch.float64  # Data type can be changed if needed\n",
    ").to(device)\n",
    "\n",
    "# Print model summary (optional)\n",
    "print(mimic_admission_classifier)\n"
   ]
  },
  {
   "cell_type": "code",
   "execution_count": 8,
   "metadata": {},
   "outputs": [],
   "source": [
    "# From https://pytorch.org/tutorials/beginner/transfer_learning_tutorial.html\n",
    "from torchmetrics.classification import BinaryF1Score, BinaryAccuracy, BinaryAUROC\n",
    "\n",
    "def train_classification_model(model, dataloaders, dataset_sizes, criterion, optimizer, scheduler, num_epochs=5, threshold=0.5):\n",
    "    since = time.time()\n",
    "\n",
    "    best_model_wts = copy.deepcopy(model.state_dict()) # keep the best weights stored separately\n",
    "    best_acc = 0.0\n",
    "    best_epoch = 0\n",
    "    best_f1 = 0\n",
    "    best_auc = 0.5\n",
    "\n",
    "    # initialize metric\n",
    "    f1 = BinaryF1Score(threshold=threshold).to(device)\n",
    "    acc = BinaryAccuracy(threshold=threshold).to(device)\n",
    "    auc = BinaryAUROC().to(device)\n",
    "\n",
    "    # Each epoch has a training, validation, and test phase\n",
    "    phases = ['train', 'val', 'test']\n",
    "    \n",
    "    # Keep track of how loss and accuracy evolves during training\n",
    "    training_curves = {}\n",
    "    for phase in phases:\n",
    "        training_curves[phase+'_loss'] = []\n",
    "        training_curves[phase+'_acc'] = []\n",
    "        training_curves[phase+'_f1'] = []\n",
    "        training_curves[phase+'_auc'] = []\n",
    "    \n",
    "    for epoch in range(num_epochs):\n",
    "        print(f'\\nEpoch {epoch+1}/{num_epochs}')\n",
    "        print('-' * 10)\n",
    "\n",
    "        for phase in phases:\n",
    "            if phase == 'train':\n",
    "                model.train()  # Set model to training mode\n",
    "            else:\n",
    "                model.eval()   # Set model to evaluate mode\n",
    "\n",
    "            running_loss = 0.0\n",
    "            since_phase = time.time()\n",
    "                        \n",
    "            # Iterate over data.\n",
    "            for inputs, labels in dataloaders[phase]:\n",
    "                # No need to flatten the inputs!\n",
    "                inputs = inputs.to(device)\n",
    "                labels = labels.to(device)\n",
    "\n",
    "                # zero the parameter gradients\n",
    "                optimizer.zero_grad()\n",
    "\n",
    "                # forward\n",
    "                with torch.set_grad_enabled(phase == 'train'):\n",
    "                    outputs = model(inputs)\n",
    "                    loss = criterion(outputs, labels)\n",
    "\n",
    "                    # backward + update weights only if in training phase\n",
    "                    if phase == 'train':\n",
    "                        loss.backward()\n",
    "                        optimizer.step()\n",
    "\n",
    "                # statistics\n",
    "                running_loss += loss.item() * inputs.size(0)\n",
    "                f1_score = f1(outputs.detach(), labels.detach())\n",
    "                acc_score = acc(outputs.detach(), labels.detach())\n",
    "                auc_score = auc(outputs.detach(), labels.detach())\n",
    "                            \n",
    "            if phase == 'train':\n",
    "                scheduler.step()\n",
    "\n",
    "            epoch_loss = running_loss / dataset_sizes[phase]\n",
    "            epoch_acc = acc.compute()\n",
    "            epoch_f1 = f1.compute()\n",
    "            epoch_auc = auc.compute()\n",
    "            training_curves[phase+'_loss'].append(epoch_loss)\n",
    "            training_curves[phase+'_acc'].append(epoch_acc)       \n",
    "            training_curves[phase+'_f1'].append(epoch_f1)\n",
    "            training_curves[phase+'_auc'].append(epoch_auc)\n",
    "            phase_time_elapsed = time.time() - since_phase\n",
    "\n",
    "            print(f'{phase:5} Loss: {epoch_loss:.4f} Acc: {epoch_acc:.4f} F1: {epoch_f1:.4f} AUC: {epoch_auc:.4f} Time elapsed: {phase_time_elapsed // 60:.0f}m {phase_time_elapsed % 60:.0f}s')\n",
    "\n",
    "            # deep copy the model if it's the best F1\n",
    "            if phase == 'val' and epoch_auc > best_auc:\n",
    "              best_epoch = epoch\n",
    "              best_acc = epoch_acc\n",
    "              best_model_wts = copy.deepcopy(model.state_dict())\n",
    "              best_f1 = epoch_f1\n",
    "              best_auc = epoch_auc\n",
    "\n",
    "            # reset metrics\n",
    "            f1.reset()\n",
    "            acc.reset()\n",
    "\n",
    "    time_elapsed = time.time() - since\n",
    "    print(f'\\nTraining complete in {time_elapsed // 60:.0f}m {time_elapsed % 60:.0f}s')\n",
    "    print(f'Best val Acc: {best_acc:4f} at epoch {best_epoch} with F1-score: {best_f1} with AUC {best_auc}')\n",
    "\n",
    "    # load best model weights\n",
    "    model.load_state_dict(best_model_wts)\n",
    "    \n",
    "    return model, training_curves"
   ]
  },
  {
   "cell_type": "code",
   "execution_count": 9,
   "metadata": {},
   "outputs": [
    {
     "name": "stdout",
     "output_type": "stream",
     "text": [
      "\n",
      "Epoch 1/20\n",
      "----------\n"
     ]
    },
    {
     "name": "stderr",
     "output_type": "stream",
     "text": [
      "C:\\Users\\Vinicius\\AppData\\Local\\Temp\\ipykernel_26820\\1375628816.py:21: FutureWarning: Series.__getitem__ treating keys as positions is deprecated. In a future version, integer keys will always be treated as labels (consistent with DataFrame behavior). To access a value by position, use `ser.iloc[pos]`\n",
      "  inputs = torch.tensor(self.mimic_df_X.iloc[idx], dtype=torch.float64)\n",
      "C:\\Users\\Vinicius\\AppData\\Local\\Temp\\ipykernel_26820\\1375628816.py:22: FutureWarning: Series.__getitem__ treating keys as positions is deprecated. In a future version, integer keys will always be treated as labels (consistent with DataFrame behavior). To access a value by position, use `ser.iloc[pos]`\n",
      "  labels = torch.tensor(self.mimic_df_y.iloc[idx], dtype=torch.float64)\n"
     ]
    },
    {
     "name": "stdout",
     "output_type": "stream",
     "text": [
      "train Loss: 0.5437 Acc: 0.7278 F1: 0.7187 AUC: 0.7993 Time elapsed: 2m 55s\n",
      "val   Loss: 0.5159 Acc: 0.7450 F1: 0.7401 AUC: 0.8016 Time elapsed: 0m 35s\n",
      "test  Loss: 0.5190 Acc: 0.7407 F1: 0.7373 AUC: 0.8034 Time elapsed: 0m 42s\n",
      "\n",
      "Epoch 2/20\n",
      "----------\n"
     ]
    },
    {
     "ename": "KeyboardInterrupt",
     "evalue": "",
     "output_type": "error",
     "traceback": [
      "\u001b[1;31m---------------------------------------------------------------------------\u001b[0m",
      "\u001b[1;31mKeyboardInterrupt\u001b[0m                         Traceback (most recent call last)",
      "Cell \u001b[1;32mIn[9], line 8\u001b[0m\n\u001b[0;32m      5\u001b[0m scheduler \u001b[38;5;241m=\u001b[39m torch\u001b[38;5;241m.\u001b[39moptim\u001b[38;5;241m.\u001b[39mlr_scheduler\u001b[38;5;241m.\u001b[39mExponentialLR(optimizer, gamma\u001b[38;5;241m=\u001b[39m\u001b[38;5;241m0.95\u001b[39m)\n\u001b[0;32m      7\u001b[0m \u001b[38;5;66;03m# Train the model. We also will store the results of training to visualize\u001b[39;00m\n\u001b[1;32m----> 8\u001b[0m mimic_admission_classifier, training_curves \u001b[38;5;241m=\u001b[39m \u001b[43mtrain_classification_model\u001b[49m\u001b[43m(\u001b[49m\u001b[43mmimic_admission_classifier\u001b[49m\u001b[43m,\u001b[49m\u001b[43m \u001b[49m\u001b[43mdataloaders\u001b[49m\u001b[43m,\u001b[49m\u001b[43m \u001b[49m\u001b[43mdataset_sizes\u001b[49m\u001b[43m,\u001b[49m\u001b[43m \u001b[49m\u001b[43mcriterion\u001b[49m\u001b[43m,\u001b[49m\u001b[43m \u001b[49m\u001b[43moptimizer\u001b[49m\u001b[43m,\u001b[49m\u001b[43m \u001b[49m\u001b[43mscheduler\u001b[49m\u001b[43m,\u001b[49m\u001b[43m \u001b[49m\u001b[43mnum_epochs\u001b[49m\u001b[38;5;241;43m=\u001b[39;49m\u001b[38;5;241;43m20\u001b[39;49m\u001b[43m)\u001b[49m\n",
      "Cell \u001b[1;32mIn[8], line 65\u001b[0m, in \u001b[0;36mtrain_classification_model\u001b[1;34m(model, dataloaders, dataset_sizes, criterion, optimizer, scheduler, num_epochs, threshold)\u001b[0m\n\u001b[0;32m     63\u001b[0m     f1_score \u001b[38;5;241m=\u001b[39m f1(outputs\u001b[38;5;241m.\u001b[39mdetach(), labels\u001b[38;5;241m.\u001b[39mdetach())\n\u001b[0;32m     64\u001b[0m     acc_score \u001b[38;5;241m=\u001b[39m acc(outputs\u001b[38;5;241m.\u001b[39mdetach(), labels\u001b[38;5;241m.\u001b[39mdetach())\n\u001b[1;32m---> 65\u001b[0m     auc_score \u001b[38;5;241m=\u001b[39m \u001b[43mauc\u001b[49m\u001b[43m(\u001b[49m\u001b[43moutputs\u001b[49m\u001b[38;5;241;43m.\u001b[39;49m\u001b[43mdetach\u001b[49m\u001b[43m(\u001b[49m\u001b[43m)\u001b[49m\u001b[43m,\u001b[49m\u001b[43m \u001b[49m\u001b[43mlabels\u001b[49m\u001b[38;5;241;43m.\u001b[39;49m\u001b[43mdetach\u001b[49m\u001b[43m(\u001b[49m\u001b[43m)\u001b[49m\u001b[43m)\u001b[49m\n\u001b[0;32m     67\u001b[0m \u001b[38;5;28;01mif\u001b[39;00m phase \u001b[38;5;241m==\u001b[39m \u001b[38;5;124m'\u001b[39m\u001b[38;5;124mtrain\u001b[39m\u001b[38;5;124m'\u001b[39m:\n\u001b[0;32m     68\u001b[0m     scheduler\u001b[38;5;241m.\u001b[39mstep()\n",
      "File \u001b[1;32mc:\\Users\\Vinicius\\OneDrive\\Documentos\\GitHub\\mimic-iv-machine-learning-project\\venv\\Lib\\site-packages\\torch\\nn\\modules\\module.py:1553\u001b[0m, in \u001b[0;36mModule._wrapped_call_impl\u001b[1;34m(self, *args, **kwargs)\u001b[0m\n\u001b[0;32m   1551\u001b[0m     \u001b[38;5;28;01mreturn\u001b[39;00m \u001b[38;5;28mself\u001b[39m\u001b[38;5;241m.\u001b[39m_compiled_call_impl(\u001b[38;5;241m*\u001b[39margs, \u001b[38;5;241m*\u001b[39m\u001b[38;5;241m*\u001b[39mkwargs)  \u001b[38;5;66;03m# type: ignore[misc]\u001b[39;00m\n\u001b[0;32m   1552\u001b[0m \u001b[38;5;28;01melse\u001b[39;00m:\n\u001b[1;32m-> 1553\u001b[0m     \u001b[38;5;28;01mreturn\u001b[39;00m \u001b[38;5;28;43mself\u001b[39;49m\u001b[38;5;241;43m.\u001b[39;49m\u001b[43m_call_impl\u001b[49m\u001b[43m(\u001b[49m\u001b[38;5;241;43m*\u001b[39;49m\u001b[43margs\u001b[49m\u001b[43m,\u001b[49m\u001b[43m \u001b[49m\u001b[38;5;241;43m*\u001b[39;49m\u001b[38;5;241;43m*\u001b[39;49m\u001b[43mkwargs\u001b[49m\u001b[43m)\u001b[49m\n",
      "File \u001b[1;32mc:\\Users\\Vinicius\\OneDrive\\Documentos\\GitHub\\mimic-iv-machine-learning-project\\venv\\Lib\\site-packages\\torch\\nn\\modules\\module.py:1562\u001b[0m, in \u001b[0;36mModule._call_impl\u001b[1;34m(self, *args, **kwargs)\u001b[0m\n\u001b[0;32m   1557\u001b[0m \u001b[38;5;66;03m# If we don't have any hooks, we want to skip the rest of the logic in\u001b[39;00m\n\u001b[0;32m   1558\u001b[0m \u001b[38;5;66;03m# this function, and just call forward.\u001b[39;00m\n\u001b[0;32m   1559\u001b[0m \u001b[38;5;28;01mif\u001b[39;00m \u001b[38;5;129;01mnot\u001b[39;00m (\u001b[38;5;28mself\u001b[39m\u001b[38;5;241m.\u001b[39m_backward_hooks \u001b[38;5;129;01mor\u001b[39;00m \u001b[38;5;28mself\u001b[39m\u001b[38;5;241m.\u001b[39m_backward_pre_hooks \u001b[38;5;129;01mor\u001b[39;00m \u001b[38;5;28mself\u001b[39m\u001b[38;5;241m.\u001b[39m_forward_hooks \u001b[38;5;129;01mor\u001b[39;00m \u001b[38;5;28mself\u001b[39m\u001b[38;5;241m.\u001b[39m_forward_pre_hooks\n\u001b[0;32m   1560\u001b[0m         \u001b[38;5;129;01mor\u001b[39;00m _global_backward_pre_hooks \u001b[38;5;129;01mor\u001b[39;00m _global_backward_hooks\n\u001b[0;32m   1561\u001b[0m         \u001b[38;5;129;01mor\u001b[39;00m _global_forward_hooks \u001b[38;5;129;01mor\u001b[39;00m _global_forward_pre_hooks):\n\u001b[1;32m-> 1562\u001b[0m     \u001b[38;5;28;01mreturn\u001b[39;00m \u001b[43mforward_call\u001b[49m\u001b[43m(\u001b[49m\u001b[38;5;241;43m*\u001b[39;49m\u001b[43margs\u001b[49m\u001b[43m,\u001b[49m\u001b[43m \u001b[49m\u001b[38;5;241;43m*\u001b[39;49m\u001b[38;5;241;43m*\u001b[39;49m\u001b[43mkwargs\u001b[49m\u001b[43m)\u001b[49m\n\u001b[0;32m   1564\u001b[0m \u001b[38;5;28;01mtry\u001b[39;00m:\n\u001b[0;32m   1565\u001b[0m     result \u001b[38;5;241m=\u001b[39m \u001b[38;5;28;01mNone\u001b[39;00m\n",
      "File \u001b[1;32mc:\\Users\\Vinicius\\OneDrive\\Documentos\\GitHub\\mimic-iv-machine-learning-project\\venv\\Lib\\site-packages\\torchmetrics\\metric.py:312\u001b[0m, in \u001b[0;36mMetric.forward\u001b[1;34m(self, *args, **kwargs)\u001b[0m\n\u001b[0;32m    310\u001b[0m     \u001b[38;5;28mself\u001b[39m\u001b[38;5;241m.\u001b[39m_forward_cache \u001b[38;5;241m=\u001b[39m \u001b[38;5;28mself\u001b[39m\u001b[38;5;241m.\u001b[39m_forward_full_state_update(\u001b[38;5;241m*\u001b[39margs, \u001b[38;5;241m*\u001b[39m\u001b[38;5;241m*\u001b[39mkwargs)\n\u001b[0;32m    311\u001b[0m \u001b[38;5;28;01melse\u001b[39;00m:\n\u001b[1;32m--> 312\u001b[0m     \u001b[38;5;28mself\u001b[39m\u001b[38;5;241m.\u001b[39m_forward_cache \u001b[38;5;241m=\u001b[39m \u001b[38;5;28;43mself\u001b[39;49m\u001b[38;5;241;43m.\u001b[39;49m\u001b[43m_forward_reduce_state_update\u001b[49m\u001b[43m(\u001b[49m\u001b[38;5;241;43m*\u001b[39;49m\u001b[43margs\u001b[49m\u001b[43m,\u001b[49m\u001b[43m \u001b[49m\u001b[38;5;241;43m*\u001b[39;49m\u001b[38;5;241;43m*\u001b[39;49m\u001b[43mkwargs\u001b[49m\u001b[43m)\u001b[49m\n\u001b[0;32m    314\u001b[0m \u001b[38;5;28;01mreturn\u001b[39;00m \u001b[38;5;28mself\u001b[39m\u001b[38;5;241m.\u001b[39m_forward_cache\n",
      "File \u001b[1;32mc:\\Users\\Vinicius\\OneDrive\\Documentos\\GitHub\\mimic-iv-machine-learning-project\\venv\\Lib\\site-packages\\torchmetrics\\metric.py:369\u001b[0m, in \u001b[0;36mMetric._forward_reduce_state_update\u001b[1;34m(self, *args, **kwargs)\u001b[0m\n\u001b[0;32m    362\u001b[0m \u001b[38;5;250m\u001b[39m\u001b[38;5;124;03m\"\"\"Forward computation using single call to `update`.\u001b[39;00m\n\u001b[0;32m    363\u001b[0m \n\u001b[0;32m    364\u001b[0m \u001b[38;5;124;03mThis can be done when the global metric state is a simple reduction of batch states. This can be unsafe for\u001b[39;00m\n\u001b[0;32m    365\u001b[0m \u001b[38;5;124;03mcertain metric cases but is also the fastest way to both accumulate globally and compute locally.\u001b[39;00m\n\u001b[0;32m    366\u001b[0m \n\u001b[0;32m    367\u001b[0m \u001b[38;5;124;03m\"\"\"\u001b[39;00m\n\u001b[0;32m    368\u001b[0m \u001b[38;5;66;03m# store global state and reset to default\u001b[39;00m\n\u001b[1;32m--> 369\u001b[0m global_state \u001b[38;5;241m=\u001b[39m \u001b[38;5;28;43mself\u001b[39;49m\u001b[38;5;241;43m.\u001b[39;49m\u001b[43m_copy_state_dict\u001b[49m\u001b[43m(\u001b[49m\u001b[43m)\u001b[49m\n\u001b[0;32m    370\u001b[0m _update_count \u001b[38;5;241m=\u001b[39m \u001b[38;5;28mself\u001b[39m\u001b[38;5;241m.\u001b[39m_update_count\n\u001b[0;32m    371\u001b[0m \u001b[38;5;28mself\u001b[39m\u001b[38;5;241m.\u001b[39mreset()\n",
      "File \u001b[1;32mc:\\Users\\Vinicius\\OneDrive\\Documentos\\GitHub\\mimic-iv-machine-learning-project\\venv\\Lib\\site-packages\\torchmetrics\\metric.py:901\u001b[0m, in \u001b[0;36mMetric._copy_state_dict\u001b[1;34m(self)\u001b[0m\n\u001b[0;32m    899\u001b[0m         cache[attr] \u001b[38;5;241m=\u001b[39m current_value\u001b[38;5;241m.\u001b[39mdetach()\u001b[38;5;241m.\u001b[39mclone()\u001b[38;5;241m.\u001b[39mto(current_value\u001b[38;5;241m.\u001b[39mdevice)\n\u001b[0;32m    900\u001b[0m     \u001b[38;5;28;01melse\u001b[39;00m:\n\u001b[1;32m--> 901\u001b[0m         cache[attr] \u001b[38;5;241m=\u001b[39m \u001b[43m[\u001b[49m\u001b[43m  \u001b[49m\u001b[38;5;66;43;03m# safely copy (non-graph leaf) Tensor elements\u001b[39;49;00m\n\u001b[0;32m    902\u001b[0m \u001b[43m            \u001b[49m\u001b[43m_\u001b[49m\u001b[38;5;241;43m.\u001b[39;49m\u001b[43mdetach\u001b[49m\u001b[43m(\u001b[49m\u001b[43m)\u001b[49m\u001b[38;5;241;43m.\u001b[39;49m\u001b[43mclone\u001b[49m\u001b[43m(\u001b[49m\u001b[43m)\u001b[49m\u001b[38;5;241;43m.\u001b[39;49m\u001b[43mto\u001b[49m\u001b[43m(\u001b[49m\u001b[43m_\u001b[49m\u001b[38;5;241;43m.\u001b[39;49m\u001b[43mdevice\u001b[49m\u001b[43m)\u001b[49m\u001b[43m \u001b[49m\u001b[38;5;28;43;01mif\u001b[39;49;00m\u001b[43m \u001b[49m\u001b[38;5;28;43misinstance\u001b[39;49m\u001b[43m(\u001b[49m\u001b[43m_\u001b[49m\u001b[43m,\u001b[49m\u001b[43m \u001b[49m\u001b[43mTensor\u001b[49m\u001b[43m)\u001b[49m\u001b[43m \u001b[49m\u001b[38;5;28;43;01melse\u001b[39;49;00m\u001b[43m \u001b[49m\u001b[43mdeepcopy\u001b[49m\u001b[43m(\u001b[49m\u001b[43m_\u001b[49m\u001b[43m)\u001b[49m\u001b[43m \u001b[49m\u001b[38;5;28;43;01mfor\u001b[39;49;00m\u001b[43m \u001b[49m\u001b[43m_\u001b[49m\u001b[43m \u001b[49m\u001b[38;5;129;43;01min\u001b[39;49;00m\u001b[43m \u001b[49m\u001b[43mcurrent_value\u001b[49m\n\u001b[0;32m    903\u001b[0m \u001b[43m        \u001b[49m\u001b[43m]\u001b[49m\n\u001b[0;32m    905\u001b[0m \u001b[38;5;28;01mreturn\u001b[39;00m cache\n",
      "File \u001b[1;32mc:\\Users\\Vinicius\\OneDrive\\Documentos\\GitHub\\mimic-iv-machine-learning-project\\venv\\Lib\\site-packages\\torchmetrics\\metric.py:902\u001b[0m, in \u001b[0;36m<listcomp>\u001b[1;34m(.0)\u001b[0m\n\u001b[0;32m    899\u001b[0m         cache[attr] \u001b[38;5;241m=\u001b[39m current_value\u001b[38;5;241m.\u001b[39mdetach()\u001b[38;5;241m.\u001b[39mclone()\u001b[38;5;241m.\u001b[39mto(current_value\u001b[38;5;241m.\u001b[39mdevice)\n\u001b[0;32m    900\u001b[0m     \u001b[38;5;28;01melse\u001b[39;00m:\n\u001b[0;32m    901\u001b[0m         cache[attr] \u001b[38;5;241m=\u001b[39m [  \u001b[38;5;66;03m# safely copy (non-graph leaf) Tensor elements\u001b[39;00m\n\u001b[1;32m--> 902\u001b[0m             \u001b[43m_\u001b[49m\u001b[38;5;241;43m.\u001b[39;49m\u001b[43mdetach\u001b[49m\u001b[43m(\u001b[49m\u001b[43m)\u001b[49m\u001b[38;5;241;43m.\u001b[39;49m\u001b[43mclone\u001b[49m\u001b[43m(\u001b[49m\u001b[43m)\u001b[49m\u001b[38;5;241m.\u001b[39mto(_\u001b[38;5;241m.\u001b[39mdevice) \u001b[38;5;28;01mif\u001b[39;00m \u001b[38;5;28misinstance\u001b[39m(_, Tensor) \u001b[38;5;28;01melse\u001b[39;00m deepcopy(_) \u001b[38;5;28;01mfor\u001b[39;00m _ \u001b[38;5;129;01min\u001b[39;00m current_value\n\u001b[0;32m    903\u001b[0m         ]\n\u001b[0;32m    905\u001b[0m \u001b[38;5;28;01mreturn\u001b[39;00m cache\n",
      "\u001b[1;31mKeyboardInterrupt\u001b[0m: "
     ]
    }
   ],
   "source": [
    "# Training\n",
    "# loss and optimizer\n",
    "criterion = nn.BCELoss() # BCELoss for binary classification\n",
    "optimizer = torch.optim.Adam(mimic_admission_classifier.parameters(), lr=learning_rate)\n",
    "scheduler = torch.optim.lr_scheduler.ExponentialLR(optimizer, gamma=0.95)\n",
    "\n",
    "# Train the model. We also will store the results of training to visualize\n",
    "mimic_admission_classifier, training_curves = train_classification_model(mimic_admission_classifier, dataloaders, dataset_sizes, criterion, optimizer, scheduler, num_epochs=20)"
   ]
  },
  {
   "cell_type": "code",
   "execution_count": 53,
   "metadata": {},
   "outputs": [],
   "source": [
    "import sklearn.metrics as metrics\n",
    "\n",
    "# Utility functions for plotting your results!\n",
    "def plot_training_curves(training_curves, \n",
    "                         phases=['train', 'val', 'test'],\n",
    "                         metrics=['loss','acc', 'f1', 'auc']):\n",
    "    epochs = list(range(1, len(training_curves['train_loss'])+1))\n",
    "    fig, axs = plt.subplots(len(metrics), 1, figsize=(5, 10), tight_layout=True)\n",
    "    for idx, metric in enumerate(metrics):\n",
    "        ax = axs[idx]     \n",
    "        ax.set_title(f'Training curves - {metric}')\n",
    "        ax.set_ylabel(metric)\n",
    "        ax.xaxis.set_ticks(np.arange(1, len(epochs)+1, 1))\n",
    "        for phase in phases:\n",
    "            key = phase+'_'+metric\n",
    "            if key in training_curves:\n",
    "                if metric == 'acc' or metric == 'f1' or metric == 'auc':\n",
    "                    ax.plot(epochs, [item.detach().cpu() for item in training_curves[key]])\n",
    "                else:\n",
    "                    ax.plot(epochs, training_curves[key])\n",
    "        ax.set_xlabel('epoch')\n",
    "        ax.legend(labels=phases)\n",
    "\n",
    "def classify_predictions(model, device, dataloader):\n",
    "    model.eval()   # Set model to evaluate mode\n",
    "    all_labels = torch.tensor([]).to(device)\n",
    "    all_scores = torch.tensor([]).to(device)\n",
    "    all_preds = torch.tensor([]).to(device)\n",
    "    for inputs, labels in dataloaders['test']:\n",
    "        inputs = inputs.to(device)\n",
    "        labels = labels.to(device)\n",
    "        outputs = model(inputs)\n",
    "        preds = torch.where(outputs < 0.5, 0, 1).view(-1)\n",
    "        scores = outputs.view(-1)\n",
    "        all_labels = torch.cat((all_labels, labels), 0)\n",
    "        all_scores = torch.cat((all_scores, scores), 0)\n",
    "        all_preds = torch.cat((all_preds, preds), 0).view(-1)\n",
    "    return all_preds.detach().cpu(), all_labels.detach().cpu(), all_scores.detach().cpu()\n",
    "\n",
    "def plot_cm(model, device, dataloaders, phase='test'):\n",
    "    class_labels = [0, 1]\n",
    "    preds, labels, scores = classify_predictions(model, device, dataloaders[phase])\n",
    "    \n",
    "    cm = metrics.confusion_matrix(labels, preds)\n",
    "    disp = metrics.ConfusionMatrixDisplay(confusion_matrix=cm, display_labels=class_labels)\n",
    "    ax = disp.plot().ax_\n",
    "    ax.set_title('Confusion Matrix -- counts')"
   ]
  },
  {
   "cell_type": "code",
   "execution_count": 55,
   "metadata": {},
   "outputs": [
    {
     "data": {
      "text/plain": [
       "{'train_loss': [0.5109811729204516],\n",
       " 'train_acc': [tensor(0.7492, device='cuda:0')],\n",
       " 'train_f1': [tensor(0.7404, device='cuda:0')],\n",
       " 'train_auc': [tensor(0.8264, device='cuda:0')],\n",
       " 'val_loss': [0.5058639691958685],\n",
       " 'val_acc': [tensor(0.7509, device='cuda:0')],\n",
       " 'val_f1': [tensor(0.7425, device='cuda:0')],\n",
       " 'val_auc': [tensor(0.8267, device='cuda:0')],\n",
       " 'test_loss': [0.5092330404016869],\n",
       " 'test_acc': [tensor(0.7479, device='cuda:0')],\n",
       " 'test_f1': [tensor(0.7404, device='cuda:0')],\n",
       " 'test_auc': [tensor(0.8267, device='cuda:0')]}"
      ]
     },
     "execution_count": 55,
     "metadata": {},
     "output_type": "execute_result"
    }
   ],
   "source": [
    "training_curves"
   ]
  },
  {
   "cell_type": "code",
   "execution_count": 58,
   "metadata": {},
   "outputs": [
    {
     "data": {
      "image/png": "[encoded data removed]",
      "text/plain": [
       "<Figure size 500x1000 with 4 Axes>"
      ]
     },
     "metadata": {},
     "output_type": "display_data"
    }
   ],
   "source": [
    "plot_training_curves(training_curves, phases=['train', 'val', 'test'])\n"
   ]
  },
  {
   "cell_type": "code",
   "execution_count": null,
   "metadata": {},
   "outputs": [],
   "source": [
    "mimic_admission_classifier()"
   ]
  },
  {
   "cell_type": "code",
   "execution_count": null,
   "metadata": {},
   "outputs": [],
   "source": [
    "from sklearn.metrics import classification_report\n",
    "\n",
    "# Fazendo previsões no dataset de validação\n",
    "prob_pos_mlp = rs_mlp.predict_proba(X_val)[:, 1]\n",
    "y_pred_mlp = rs_mlp.predict(X_val)\n",
    "\n",
    "print('MLP - Validation dataset')\n",
    "print(\"Accuracy: {:.4f}\".format(accuracy_score(y_val, y_pred_mlp)))\n",
    "print(\"Precision: {:.4f}\".format(precision_score(y_val, y_pred_mlp)))\n",
    "print(\"Recall: {:.4f}\".format(recall_score(y_val, y_pred_mlp)))\n",
    "print(\"AUC: {:.4f}\".format(roc_auc_score(y_val, prob_pos_mlp)))\n",
    "print(classification_report(y_val, y_pred_mlp))"
   ]
  }
 ],
 "metadata": {
  "kernelspec": {
   "display_name": "venv",
   "language": "python",
   "name": "python3"
  },
  "language_info": {
   "codemirror_mode": {
    "name": "ipython",
    "version": 3
   },
   "file_extension": ".py",
   "mimetype": "text/x-python",
   "name": "python",
   "nbconvert_exporter": "python",
   "pygments_lexer": "ipython3",
   "version": "3.11.9"
  }
 },
 "nbformat": 4,
 "nbformat_minor": 2
}
