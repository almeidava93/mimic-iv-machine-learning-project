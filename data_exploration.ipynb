{
 "cells": [
  {
   "cell_type": "markdown",
   "metadata": {},
   "source": [
    "# MIMIC-IV v3.0\n",
    "\n",
    "## Análise exploratória dos dados\n",
    "\n",
    "Entre os Disease-Related Groups (DRGs) mais comuns associados às internações hospitalares, septicemia/infecções disseminadas e insuficiência cardíaca são os diagnósticos mais comuns, ficando atrás somente de parto vaginal como motivo de internação."
   ]
  },
  {
   "cell_type": "code",
   "execution_count": 12,
   "metadata": {},
   "outputs": [],
   "source": [
    "import pandas as pd\n",
    "from pathlib import Path\n",
    "\n",
    "transfers_path = Path('physionet.org','files','mimiciv','3.0','hosp','transfers.csv')\n",
    "transfers_df = pd.read_csv(transfers_path)\n",
    "\n",
    "drgcodes_path = Path('physionet.org','files','mimiciv','3.0','hosp','drgcodes.csv')\n",
    "drgcodes_df = pd.read_csv(drgcodes_path)"
   ]
  },
  {
   "cell_type": "code",
   "execution_count": 32,
   "metadata": {},
   "outputs": [
    {
     "data": {
      "text/html": [
       "<div>\n",
       "<style scoped>\n",
       "    .dataframe tbody tr th:only-of-type {\n",
       "        vertical-align: middle;\n",
       "    }\n",
       "\n",
       "    .dataframe tbody tr th {\n",
       "        vertical-align: top;\n",
       "    }\n",
       "\n",
       "    .dataframe thead th {\n",
       "        text-align: right;\n",
       "    }\n",
       "</style>\n",
       "<table border=\"1\" class=\"dataframe\">\n",
       "  <thead>\n",
       "    <tr style=\"text-align: right;\">\n",
       "      <th></th>\n",
       "      <th>description</th>\n",
       "      <th>size</th>\n",
       "    </tr>\n",
       "  </thead>\n",
       "  <tbody>\n",
       "    <tr>\n",
       "      <th>1775</th>\n",
       "      <td>VAGINAL DELIVERY</td>\n",
       "      <td>12633</td>\n",
       "    </tr>\n",
       "    <tr>\n",
       "      <th>1523</th>\n",
       "      <td>SEPTICEMIA AND DISSEMINATED INFECTIONS</td>\n",
       "      <td>11438</td>\n",
       "    </tr>\n",
       "    <tr>\n",
       "      <th>587</th>\n",
       "      <td>HEART FAILURE</td>\n",
       "      <td>11214</td>\n",
       "    </tr>\n",
       "    <tr>\n",
       "      <th>504</th>\n",
       "      <td>ESOPHAGITIS, GASTROENT &amp; MISC DIGEST DISORDERS...</td>\n",
       "      <td>7684</td>\n",
       "    </tr>\n",
       "    <tr>\n",
       "      <th>1783</th>\n",
       "      <td>VAGINAL DELIVERY W/O COMPLICATING DIAGNOSES</td>\n",
       "      <td>7388</td>\n",
       "    </tr>\n",
       "    <tr>\n",
       "      <th>1446</th>\n",
       "      <td>PSYCHOSES</td>\n",
       "      <td>7379</td>\n",
       "    </tr>\n",
       "    <tr>\n",
       "      <th>286</th>\n",
       "      <td>CESAREAN SECTION WITHOUT STERILIZATION</td>\n",
       "      <td>6895</td>\n",
       "    </tr>\n",
       "    <tr>\n",
       "      <th>1289</th>\n",
       "      <td>OTHER PNEUMONIA</td>\n",
       "      <td>6192</td>\n",
       "    </tr>\n",
       "    <tr>\n",
       "      <th>1365</th>\n",
       "      <td>PERCUTANEOUS CARDIAC INTERVENTION WITHOUT AMI</td>\n",
       "      <td>5644</td>\n",
       "    </tr>\n",
       "    <tr>\n",
       "      <th>736</th>\n",
       "      <td>KIDNEY AND URINARY TRACT INFECTIONS</td>\n",
       "      <td>5373</td>\n",
       "    </tr>\n",
       "  </tbody>\n",
       "</table>\n",
       "</div>"
      ],
      "text/plain": [
       "                                            description   size\n",
       "1775                                   VAGINAL DELIVERY  12633\n",
       "1523             SEPTICEMIA AND DISSEMINATED INFECTIONS  11438\n",
       "587                                       HEART FAILURE  11214\n",
       "504   ESOPHAGITIS, GASTROENT & MISC DIGEST DISORDERS...   7684\n",
       "1783        VAGINAL DELIVERY W/O COMPLICATING DIAGNOSES   7388\n",
       "1446                                          PSYCHOSES   7379\n",
       "286              CESAREAN SECTION WITHOUT STERILIZATION   6895\n",
       "1289                                    OTHER PNEUMONIA   6192\n",
       "1365      PERCUTANEOUS CARDIAC INTERVENTION WITHOUT AMI   5644\n",
       "736                 KIDNEY AND URINARY TRACT INFECTIONS   5373"
      ]
     },
     "execution_count": 32,
     "metadata": {},
     "output_type": "execute_result"
    }
   ],
   "source": [
    "drgcodes_df.groupby('description', as_index=False).size().sort_values('size', ascending=False).head(10)"
   ]
  },
  {
   "cell_type": "code",
   "execution_count": null,
   "metadata": {},
   "outputs": [],
   "source": []
  }
 ],
 "metadata": {
  "kernelspec": {
   "display_name": "venv",
   "language": "python",
   "name": "python3"
  },
  "language_info": {
   "codemirror_mode": {
    "name": "ipython",
    "version": 3
   },
   "file_extension": ".py",
   "mimetype": "text/x-python",
   "name": "python",
   "nbconvert_exporter": "python",
   "pygments_lexer": "ipython3",
   "version": "3.11.9"
  }
 },
 "nbformat": 4,
 "nbformat_minor": 2
}
